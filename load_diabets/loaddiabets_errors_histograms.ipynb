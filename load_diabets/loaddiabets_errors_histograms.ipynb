{
 "cells": [
  {
   "cell_type": "code",
   "execution_count": 5,
   "metadata": {},
   "outputs": [
    {
     "data": {
      "text/plain": [
       "interactive(children=(IntSlider(value=5, description='depth', max=8, min=3), FloatSlider(value=0.2, descriptio…"
      ]
     },
     "execution_count": 0,
     "metadata": {},
     "output_type": "execute_result"
    },
    {
     "data": {
      "image/png": "[encoded data removed]",
      "text/plain": [
       "<Figure size 432x288 with 1 Axes>"
      ]
     },
     "metadata": {},
     "output_type": "display_data"
    },
    {
     "data": {
      "text/plain": [
       "<function __main__.hist(depth, learning_rate)>"
      ]
     },
     "execution_count": 5,
     "metadata": {},
     "output_type": "execute_result"
    }
   ],
   "source": [
    "import pickle\n",
    "from ipywidgets import widgets\n",
    "from IPython.display import display\n",
    "import pandas as pd\n",
    "import numpy as np\n",
    "import matplotlib.pyplot as plt\n",
    "from ipywidgets import interact\n",
    "\n",
    "with open('/home/justyna/Repo/jdsz2-homeworks/python8/justyna_krygier/results.pickle', 'rb') as f:\n",
    "    pickled_df = pickle.load(f)\n",
    "\n",
    "\n",
    "df_jup = pickled_df['XGBRegressor_Results:']\n",
    "x = df_jup['max_depth']\n",
    "y = df_jup['learning_rate']\n",
    "data = df_jup['mean_squared_error']\n",
    "\n",
    "def hist(depth, learning_rate):\n",
    "    plt.xlim(pickled_df['Minimum_MSE:'],pickled_df['Maximum_MSE:'])\n",
    "    plt.hist(df_jup.loc[(x == depth) & (y == learning_rate)]['mean_squared_error'])\n",
    "    plt.show()\n",
    "\n",
    "interact(hist, depth=(3,8,1), learning_rate=(0.05, 0.35, 0.05))\n"
   ]
  },
  {
   "cell_type": "code",
   "execution_count": 2,
   "metadata": {},
   "outputs": [],
   "source": []
  },
  {
   "cell_type": "code",
   "execution_count": 3,
   "metadata": {},
   "outputs": [],
   "source": []
  },
  {
   "cell_type": "code",
   "execution_count": 3,
   "metadata": {},
   "outputs": [],
   "source": []
  },
  {
   "cell_type": "code",
   "execution_count": null,
   "metadata": {},
   "outputs": [],
   "source": []
  }
 ],
 "metadata": {
  "kernelspec": {
   "display_name": "Python 2",
   "language": "python",
   "name": "python2"
  },
  "language_info": {
   "codemirror_mode": {
    "name": "ipython",
    "version": 2
   },
   "file_extension": ".py",
   "mimetype": "text/x-python",
   "name": "python",
   "nbconvert_exporter": "python",
   "pygments_lexer": "ipython2",
   "version": "2.7.6"
  }
 },
 "nbformat": 4,
 "nbformat_minor": 0
}
